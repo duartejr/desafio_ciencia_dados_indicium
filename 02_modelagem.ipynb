{
 "cells": [
  {
   "attachments": {},
   "cell_type": "markdown",
   "metadata": {},
   "source": [
    "# Modelagem\n",
    "\n",
    "Nesta notebook é apresetado o processo de criação do modelo de classificação"
   ]
  },
  {
   "attachments": {},
   "cell_type": "markdown",
   "metadata": {},
   "source": [
    "## Leitura de pacote e bibliotecas necessários"
   ]
  },
  {
   "cell_type": "code",
   "execution_count": 1,
   "metadata": {},
   "outputs": [],
   "source": [
    "import time\n",
    "import numpy as np\n",
    "import pandas as pd\n",
    "import matplotlib.pyplot as plt\n",
    "from sklearn.preprocessing import MinMaxScaler\n",
    "from sklearn.model_selection import train_test_split"
   ]
  },
  {
   "attachments": {},
   "cell_type": "markdown",
   "metadata": {},
   "source": [
    "## Leitura dos dados"
   ]
  },
  {
   "cell_type": "code",
   "execution_count": 2,
   "metadata": {},
   "outputs": [],
   "source": [
    "dados = pd.read_csv('desafio_manutencao_preditiva_treino.csv')"
   ]
  },
  {
   "attachments": {},
   "cell_type": "markdown",
   "metadata": {},
   "source": [
    "## Preparação dos dados"
   ]
  },
  {
   "attachments": {},
   "cell_type": "markdown",
   "metadata": {},
   "source": [
    "Primeiramente são removidos os índices pois não têm poder preditivo."
   ]
  },
  {
   "cell_type": "code",
   "execution_count": 3,
   "metadata": {},
   "outputs": [],
   "source": [
    "dados.drop(['udi', 'product_id'], axis=1, inplace=True)"
   ]
  },
  {
   "attachments": {},
   "cell_type": "markdown",
   "metadata": {},
   "source": [
    "Como visto na análise exploratória as colunas `air_temperature` e `process_temperature_k` são fortemente correlacionadas. A distribuição de falhas também motrou-se semelhante entre as duas.\n",
    "\n",
    "Pode-se então escolher apenas uma delas para simplificar o modelo. No contexto do projeto a variável `process_temperatre_k` parece ser mais relevante para a classificação da falha pois refere-se a temperatura do processo que da máquina."
   ]
  },
  {
   "cell_type": "code",
   "execution_count": 4,
   "metadata": {},
   "outputs": [],
   "source": [
    "dados = dados.drop(columns='air_temperature_k')"
   ]
  },
  {
   "attachments": {},
   "cell_type": "markdown",
   "metadata": {},
   "source": [
    "Duas outras variáveis altamente correlacionadas foram `torque_nm` e `rotational_spped_rpm`. Porém, a distribuição de falhas, para estas duas variáveis, é diferente. Por isso ambas serão mantidas na modelagem."
   ]
  },
  {
   "attachments": {},
   "cell_type": "markdown",
   "metadata": {},
   "source": [
    "### Separação dos conjuntos de treino e teste.\n",
    "\n",
    "Os dados serão separados randomicamente mas prcurando manter as mesmas proporções de tipo de falha e tipo de equipamento."
   ]
  },
  {
   "attachments": {},
   "cell_type": "markdown",
   "metadata": {},
   "source": [
    "Proporção de tipos de equipamentos."
   ]
  },
  {
   "cell_type": "code",
   "execution_count": 5,
   "metadata": {},
   "outputs": [
    {
     "data": {
      "text/plain": [
       "L    0.603270\n",
       "M    0.298035\n",
       "H    0.098695\n",
       "Name: type, dtype: float64"
      ]
     },
     "execution_count": 5,
     "metadata": {},
     "output_type": "execute_result"
    }
   ],
   "source": [
    "dados.type.value_counts(normalize=True)"
   ]
  },
  {
   "attachments": {},
   "cell_type": "markdown",
   "metadata": {},
   "source": [
    "Proporções dos tipos de falhas."
   ]
  },
  {
   "cell_type": "code",
   "execution_count": 6,
   "metadata": {},
   "outputs": [
    {
     "data": {
      "text/plain": [
       "No Failure                  0.965202\n",
       "Heat Dissipation Failure    0.011249\n",
       "Power Failure               0.009450\n",
       "Overstrain Failure          0.007800\n",
       "Tool Wear Failure           0.004500\n",
       "Random Failures             0.001800\n",
       "Name: failure_type, dtype: float64"
      ]
     },
     "execution_count": 6,
     "metadata": {},
     "output_type": "execute_result"
    }
   ],
   "source": [
    "dados.failure_type.value_counts(normalize=True)"
   ]
  },
  {
   "attachments": {},
   "cell_type": "markdown",
   "metadata": {},
   "source": [
    "Separação das variáveis independentes e dependente."
   ]
  },
  {
   "cell_type": "code",
   "execution_count": 7,
   "metadata": {},
   "outputs": [],
   "source": [
    "X = dados.drop(columns='failure_type') # Variáveis independentes\n",
    "y = dados[['failure_type']] # Variável dependente"
   ]
  },
  {
   "cell_type": "code",
   "execution_count": 8,
   "metadata": {},
   "outputs": [],
   "source": [
    "X_treino, X_teste, y_treino, y_teste = train_test_split(X, y, test_size=.3, stratify=y, random_state=101)\n"
   ]
  },
  {
   "attachments": {},
   "cell_type": "markdown",
   "metadata": {},
   "source": [
    "Proporção de tipos de equipamentos nos conjuntos de treino e teste."
   ]
  },
  {
   "cell_type": "code",
   "execution_count": 9,
   "metadata": {},
   "outputs": [
    {
     "data": {
      "text/plain": [
       "(L    0.607587\n",
       " M    0.297471\n",
       " H    0.094942\n",
       " Name: type, dtype: float64,\n",
       " L    0.593203\n",
       " M    0.299350\n",
       " H    0.107446\n",
       " Name: type, dtype: float64)"
      ]
     },
     "execution_count": 9,
     "metadata": {},
     "output_type": "execute_result"
    }
   ],
   "source": [
    "X_treino.type.value_counts(normalize=True), X_teste.type.value_counts(normalize=True)"
   ]
  },
  {
   "attachments": {},
   "cell_type": "markdown",
   "metadata": {},
   "source": [
    "Poporções da falhas nos conjuntos de treino e test"
   ]
  },
  {
   "cell_type": "code",
   "execution_count": 10,
   "metadata": {},
   "outputs": [
    {
     "data": {
      "text/plain": [
       "(failure_type            \n",
       " No Failure                  0.965281\n",
       " Heat Dissipation Failure    0.011359\n",
       " Power Failure               0.009430\n",
       " Overstrain Failure          0.007715\n",
       " Tool Wear Failure           0.004501\n",
       " Random Failures             0.001715\n",
       " dtype: float64,\n",
       " failure_type            \n",
       " No Failure                  0.965017\n",
       " Heat Dissipation Failure    0.010995\n",
       " Power Failure               0.009495\n",
       " Overstrain Failure          0.007996\n",
       " Tool Wear Failure           0.004498\n",
       " Random Failures             0.001999\n",
       " dtype: float64)"
      ]
     },
     "execution_count": 10,
     "metadata": {},
     "output_type": "execute_result"
    }
   ],
   "source": [
    "y_treino.value_counts(normalize=True), y_teste.value_counts(normalize=True)"
   ]
  },
  {
   "attachments": {},
   "cell_type": "markdown",
   "metadata": {},
   "source": [
    "Portanto a separação utilizada conseguiu manter proporções semelhantes as do conjunto inicial."
   ]
  },
  {
   "attachments": {},
   "cell_type": "markdown",
   "metadata": {},
   "source": [
    "### Separação das variáveis dummies."
   ]
  },
  {
   "attachments": {},
   "cell_type": "markdown",
   "metadata": {},
   "source": [
    "Como os modelos performam melhor com valores numéricos será utilizado o método `get_dummies` do Pandas para transformar a coluna `type`, composta de valores categóricos, em colunas de valores binários (númericos)."
   ]
  },
  {
   "cell_type": "code",
   "execution_count": 11,
   "metadata": {},
   "outputs": [
    {
     "data": {
      "text/html": [
       "<div>\n",
       "<style scoped>\n",
       "    .dataframe tbody tr th:only-of-type {\n",
       "        vertical-align: middle;\n",
       "    }\n",
       "\n",
       "    .dataframe tbody tr th {\n",
       "        vertical-align: top;\n",
       "    }\n",
       "\n",
       "    .dataframe thead th {\n",
       "        text-align: right;\n",
       "    }\n",
       "</style>\n",
       "<table border=\"1\" class=\"dataframe\">\n",
       "  <thead>\n",
       "    <tr style=\"text-align: right;\">\n",
       "      <th></th>\n",
       "      <th>process_temperature_k</th>\n",
       "      <th>rotational_speed_rpm</th>\n",
       "      <th>torque_nm</th>\n",
       "      <th>tool_wear_min</th>\n",
       "      <th>type_H</th>\n",
       "      <th>type_L</th>\n",
       "      <th>type_M</th>\n",
       "    </tr>\n",
       "  </thead>\n",
       "  <tbody>\n",
       "    <tr>\n",
       "      <th>731</th>\n",
       "      <td>307.8</td>\n",
       "      <td>1392</td>\n",
       "      <td>43.9</td>\n",
       "      <td>0</td>\n",
       "      <td>0</td>\n",
       "      <td>0</td>\n",
       "      <td>1</td>\n",
       "    </tr>\n",
       "    <tr>\n",
       "      <th>3176</th>\n",
       "      <td>311.3</td>\n",
       "      <td>1409</td>\n",
       "      <td>51.8</td>\n",
       "      <td>16</td>\n",
       "      <td>0</td>\n",
       "      <td>1</td>\n",
       "      <td>0</td>\n",
       "    </tr>\n",
       "    <tr>\n",
       "      <th>5838</th>\n",
       "      <td>308.7</td>\n",
       "      <td>1352</td>\n",
       "      <td>53.0</td>\n",
       "      <td>171</td>\n",
       "      <td>0</td>\n",
       "      <td>0</td>\n",
       "      <td>1</td>\n",
       "    </tr>\n",
       "    <tr>\n",
       "      <th>2614</th>\n",
       "      <td>311.1</td>\n",
       "      <td>1338</td>\n",
       "      <td>53.3</td>\n",
       "      <td>63</td>\n",
       "      <td>0</td>\n",
       "      <td>0</td>\n",
       "      <td>1</td>\n",
       "    </tr>\n",
       "    <tr>\n",
       "      <th>5656</th>\n",
       "      <td>309.5</td>\n",
       "      <td>1520</td>\n",
       "      <td>38.1</td>\n",
       "      <td>106</td>\n",
       "      <td>0</td>\n",
       "      <td>1</td>\n",
       "      <td>0</td>\n",
       "    </tr>\n",
       "  </tbody>\n",
       "</table>\n",
       "</div>"
      ],
      "text/plain": [
       "      process_temperature_k  rotational_speed_rpm  torque_nm  tool_wear_min  \\\n",
       "731                   307.8                  1392       43.9              0   \n",
       "3176                  311.3                  1409       51.8             16   \n",
       "5838                  308.7                  1352       53.0            171   \n",
       "2614                  311.1                  1338       53.3             63   \n",
       "5656                  309.5                  1520       38.1            106   \n",
       "\n",
       "      type_H  type_L  type_M  \n",
       "731        0       0       1  \n",
       "3176       0       1       0  \n",
       "5838       0       0       1  \n",
       "2614       0       0       1  \n",
       "5656       0       1       0  "
      ]
     },
     "execution_count": 11,
     "metadata": {},
     "output_type": "execute_result"
    }
   ],
   "source": [
    "X_treino = pd.get_dummies(X_treino)\n",
    "X_teste = pd.get_dummies(X_teste)\n",
    "X_treino.head()"
   ]
  },
  {
   "attachments": {},
   "cell_type": "markdown",
   "metadata": {},
   "source": [
    "### Padronização de variáveis."
   ]
  },
  {
   "attachments": {},
   "cell_type": "markdown",
   "metadata": {},
   "source": [
    "Como as variáveis numéricas estão em diferentes escalas de grandeza será realizada a padronização dos valores para que fiquem em escalas de grandeza similares."
   ]
  },
  {
   "cell_type": "code",
   "execution_count": 12,
   "metadata": {},
   "outputs": [
    {
     "data": {
      "text/html": [
       "<div>\n",
       "<style scoped>\n",
       "    .dataframe tbody tr th:only-of-type {\n",
       "        vertical-align: middle;\n",
       "    }\n",
       "\n",
       "    .dataframe tbody tr th {\n",
       "        vertical-align: top;\n",
       "    }\n",
       "\n",
       "    .dataframe thead th {\n",
       "        text-align: right;\n",
       "    }\n",
       "</style>\n",
       "<table border=\"1\" class=\"dataframe\">\n",
       "  <thead>\n",
       "    <tr style=\"text-align: right;\">\n",
       "      <th></th>\n",
       "      <th>process_temperature_k</th>\n",
       "      <th>rotational_speed_rpm</th>\n",
       "      <th>torque_nm</th>\n",
       "      <th>tool_wear_min</th>\n",
       "      <th>type_H</th>\n",
       "      <th>type_L</th>\n",
       "      <th>type_M</th>\n",
       "    </tr>\n",
       "  </thead>\n",
       "  <tbody>\n",
       "    <tr>\n",
       "      <th>count</th>\n",
       "      <td>4666.000000</td>\n",
       "      <td>4666.000000</td>\n",
       "      <td>4666.000000</td>\n",
       "      <td>4666.000000</td>\n",
       "      <td>4666.000000</td>\n",
       "      <td>4666.000000</td>\n",
       "      <td>4666.000000</td>\n",
       "    </tr>\n",
       "    <tr>\n",
       "      <th>mean</th>\n",
       "      <td>0.523390</td>\n",
       "      <td>0.214945</td>\n",
       "      <td>0.498706</td>\n",
       "      <td>0.438994</td>\n",
       "      <td>0.094942</td>\n",
       "      <td>0.607587</td>\n",
       "      <td>0.297471</td>\n",
       "    </tr>\n",
       "    <tr>\n",
       "      <th>std</th>\n",
       "      <td>0.186468</td>\n",
       "      <td>0.102709</td>\n",
       "      <td>0.137464</td>\n",
       "      <td>0.258372</td>\n",
       "      <td>0.293166</td>\n",
       "      <td>0.488340</td>\n",
       "      <td>0.457195</td>\n",
       "    </tr>\n",
       "    <tr>\n",
       "      <th>min</th>\n",
       "      <td>0.000000</td>\n",
       "      <td>0.000000</td>\n",
       "      <td>0.000000</td>\n",
       "      <td>0.000000</td>\n",
       "      <td>0.000000</td>\n",
       "      <td>0.000000</td>\n",
       "      <td>0.000000</td>\n",
       "    </tr>\n",
       "    <tr>\n",
       "      <th>25%</th>\n",
       "      <td>0.375000</td>\n",
       "      <td>0.147846</td>\n",
       "      <td>0.403846</td>\n",
       "      <td>0.215447</td>\n",
       "      <td>0.000000</td>\n",
       "      <td>0.000000</td>\n",
       "      <td>0.000000</td>\n",
       "    </tr>\n",
       "    <tr>\n",
       "      <th>50%</th>\n",
       "      <td>0.525000</td>\n",
       "      <td>0.195576</td>\n",
       "      <td>0.500000</td>\n",
       "      <td>0.439024</td>\n",
       "      <td>0.000000</td>\n",
       "      <td>1.000000</td>\n",
       "      <td>0.000000</td>\n",
       "    </tr>\n",
       "    <tr>\n",
       "      <th>75%</th>\n",
       "      <td>0.662500</td>\n",
       "      <td>0.258440</td>\n",
       "      <td>0.592033</td>\n",
       "      <td>0.658537</td>\n",
       "      <td>0.000000</td>\n",
       "      <td>1.000000</td>\n",
       "      <td>1.000000</td>\n",
       "    </tr>\n",
       "    <tr>\n",
       "      <th>max</th>\n",
       "      <td>1.000000</td>\n",
       "      <td>1.000000</td>\n",
       "      <td>1.000000</td>\n",
       "      <td>1.000000</td>\n",
       "      <td>1.000000</td>\n",
       "      <td>1.000000</td>\n",
       "      <td>1.000000</td>\n",
       "    </tr>\n",
       "  </tbody>\n",
       "</table>\n",
       "</div>"
      ],
      "text/plain": [
       "       process_temperature_k  rotational_speed_rpm    torque_nm  \\\n",
       "count            4666.000000           4666.000000  4666.000000   \n",
       "mean                0.523390              0.214945     0.498706   \n",
       "std                 0.186468              0.102709     0.137464   \n",
       "min                 0.000000              0.000000     0.000000   \n",
       "25%                 0.375000              0.147846     0.403846   \n",
       "50%                 0.525000              0.195576     0.500000   \n",
       "75%                 0.662500              0.258440     0.592033   \n",
       "max                 1.000000              1.000000     1.000000   \n",
       "\n",
       "       tool_wear_min       type_H       type_L       type_M  \n",
       "count    4666.000000  4666.000000  4666.000000  4666.000000  \n",
       "mean        0.438994     0.094942     0.607587     0.297471  \n",
       "std         0.258372     0.293166     0.488340     0.457195  \n",
       "min         0.000000     0.000000     0.000000     0.000000  \n",
       "25%         0.215447     0.000000     0.000000     0.000000  \n",
       "50%         0.439024     0.000000     1.000000     0.000000  \n",
       "75%         0.658537     0.000000     1.000000     1.000000  \n",
       "max         1.000000     1.000000     1.000000     1.000000  "
      ]
     },
     "execution_count": 12,
     "metadata": {},
     "output_type": "execute_result"
    }
   ],
   "source": [
    "scaler = MinMaxScaler()\n",
    "scaler.fit(X_treino)\n",
    "columns = X_treino.columns\n",
    "X_treino = scaler.transform(X_treino)\n",
    "X_treino = pd.DataFrame(X_treino, columns=columns)\n",
    "X_teste = scaler.transform(X_teste)\n",
    "X_teste = pd.DataFrame(X_teste, columns=columns)\n",
    "X_treino.describe()"
   ]
  },
  {
   "attachments": {},
   "cell_type": "markdown",
   "metadata": {},
   "source": [
    "## Métricas de avaliação"
   ]
  },
  {
   "cell_type": "code",
   "execution_count": 13,
   "metadata": {},
   "outputs": [],
   "source": [
    "from sklearn.metrics import accuracy_score, precision_score, recall_score, f1_score, matthews_corrcoef"
   ]
  },
  {
   "attachments": {},
   "cell_type": "markdown",
   "metadata": {},
   "source": [
    "Foram escolhidas 5 métricas de avaliação, utilizadas em modelos de classificação:\n",
    "* Acurácia (`accuracy_score`): é a quantidade de acertos do modelo divido pelo total da amostra. O quanto o modelo acertou.\n",
    "* Precisão (`precision_score`): avalia dentre todos os dados classificados como positivos, quantos são realmente positivos.\n",
    "* Recall (`recall_score`): avalia a porcentagem de dados classificados como positivos comparado com a quantidade real de positivos que existem em nossa amostra.\n",
    "* f1-score (`f1_score`): essa métrica une precisão e recall afim de trazer um número único que determine a qualidade geral do nosso modelo. Adequado para classes desbalanceadas.\n",
    "* MCC score (`mathews_corrcoef`):  é uma métrica que mede a eficácia de um modelo de classificação, levando em conta a precisão, recall e F1-score."
   ]
  },
  {
   "cell_type": "code",
   "execution_count": 14,
   "metadata": {},
   "outputs": [],
   "source": [
    "# Dataframe para registrar as performances dos modelos\n",
    "performaces = pd.DataFrame(columns=['Acurácia', 'Recall', 'Precisão', 'F1-Score',\n",
    "                                     'MCC score', 'Tempo de treinamento', \n",
    "                                     'Tempo de predição', 'Tempo total'])"
   ]
  },
  {
   "attachments": {},
   "cell_type": "markdown",
   "metadata": {},
   "source": [
    "## Modelos"
   ]
  },
  {
   "attachments": {},
   "cell_type": "markdown",
   "metadata": {},
   "source": [
    "### Árvore de Decisão"
   ]
  },
  {
   "attachments": {},
   "cell_type": "markdown",
   "metadata": {},
   "source": [
    "Treinamento do modelo"
   ]
  },
  {
   "cell_type": "code",
   "execution_count": 15,
   "metadata": {},
   "outputs": [
    {
     "name": "stdout",
     "output_type": "stream",
     "text": [
      "CPU times: user 169 ms, sys: 29.5 ms, total: 199 ms\n",
      "Wall time: 198 ms\n"
     ]
    }
   ],
   "source": [
    "%%time\n",
    "from sklearn.tree import DecisionTreeClassifier\n",
    "inicio = time.time()\n",
    "model_dtc = DecisionTreeClassifier().fit(X_treino, y_treino)\n",
    "fim_treino = time.time()\n",
    "y_predito = model_dtc.predict(X_teste) # These are the predictions from the test data.\n",
    "fim_previsao = time.time()"
   ]
  },
  {
   "attachments": {},
   "cell_type": "markdown",
   "metadata": {},
   "source": [
    "Avaliação do modelo"
   ]
  },
  {
   "cell_type": "code",
   "execution_count": 16,
   "metadata": {},
   "outputs": [
    {
     "name": "stdout",
     "output_type": "stream",
     "text": [
      "Acurácia: 95.80%\n",
      "Recall: 95.80%\n",
      "Precisão: 95.81%\n",
      "F1-Score: 95.80%\n",
      "MCC: 37.80%\n",
      "Tempo de treino: 0.03 s\n",
      "Tempo para previsão: 0.00 s\n",
      "Total: 0.03 s\n"
     ]
    }
   ],
   "source": [
    "def avaliacao_modelo(y_teste, y_predito, modelo):\n",
    "    acuracia = accuracy_score(y_teste, y_predito)\n",
    "    precisao = precision_score(y_teste, y_predito, average='weighted')\n",
    "    recall = recall_score(y_teste, y_predito, average='weighted')\n",
    "    f1s = f1_score(y_teste, y_predito, average='weighted')\n",
    "    MCC = matthews_corrcoef(y_teste, y_predito)\n",
    "\n",
    "    print(\"Acurácia: \"+ \"{:.2%}\".format(acuracia))\n",
    "    print(\"Recall: \"+ \"{:.2%}\".format(recall))\n",
    "    print(\"Precisão: \"+ \"{:.2%}\".format(precisao))\n",
    "    print(\"F1-Score: \"+ \"{:.2%}\".format(f1s))\n",
    "    print(\"MCC: \"+ \"{:.2%}\".format(MCC))\n",
    "    print(\"Tempo de treino: \"+ \"{:.2f}\".format(fim_treino - inicio)+\" s\")\n",
    "    print(\"Tempo para previsão: \"+\"{:.2f}\".format(fim_previsao - fim_treino)+\" s\")\n",
    "    print(\"Total: \"+\"{:.2f}\".format(fim_treino - inicio)+\" s\")\n",
    "    performaces.loc[modelo] = [acuracia, recall, precisao, f1s,\n",
    "                               MCC, fim_treino - inicio, \n",
    "                               fim_previsao - fim_treino,\n",
    "                               fim_previsao - inicio]\n",
    "\n",
    "avaliacao_modelo(y_teste, y_predito, 'Árvore de Decisão')"
   ]
  },
  {
   "attachments": {},
   "cell_type": "markdown",
   "metadata": {},
   "source": [
    "### Random Forest"
   ]
  },
  {
   "cell_type": "code",
   "execution_count": 17,
   "metadata": {},
   "outputs": [
    {
     "name": "stdout",
     "output_type": "stream",
     "text": [
      "CPU times: user 3.58 s, sys: 1.65 s, total: 5.23 s\n",
      "Wall time: 2.52 s\n"
     ]
    }
   ],
   "source": [
    "%%time\n",
    "from sklearn.ensemble import RandomForestClassifier\n",
    "inicio = time.time()\n",
    "model_rfc = RandomForestClassifier(n_estimators = 200,\n",
    "                                   n_jobs=-1,\n",
    "                                   random_state=101).fit(X_treino, y_treino.values.ravel())\n",
    "fim_treino = time.time()\n",
    "y_predito = model_rfc.predict(X_teste) \n",
    "fim_previsao = time.time()"
   ]
  },
  {
   "cell_type": "code",
   "execution_count": 18,
   "metadata": {},
   "outputs": [
    {
     "name": "stdout",
     "output_type": "stream",
     "text": [
      "Acurácia: 97.50%\n",
      "Recall: 97.50%\n",
      "Precisão: 95.76%\n",
      "F1-Score: 96.56%\n",
      "MCC: 53.30%\n",
      "Tempo de treino: 2.11 s\n",
      "Tempo para previsão: 0.36 s\n",
      "Total: 2.11 s\n"
     ]
    },
    {
     "name": "stderr",
     "output_type": "stream",
     "text": [
      "/home/duartejr/anaconda3/envs/indicium/lib/python3.10/site-packages/sklearn/metrics/_classification.py:1344: UndefinedMetricWarning: Precision is ill-defined and being set to 0.0 in labels with no predicted samples. Use `zero_division` parameter to control this behavior.\n",
      "  _warn_prf(average, modifier, msg_start, len(result))\n"
     ]
    }
   ],
   "source": [
    "avaliacao_modelo(y_teste, y_predito, 'Random Forest')"
   ]
  },
  {
   "attachments": {},
   "cell_type": "markdown",
   "metadata": {},
   "source": [
    "### Gradient Boosting Classifier"
   ]
  },
  {
   "cell_type": "code",
   "execution_count": 19,
   "metadata": {},
   "outputs": [
    {
     "name": "stdout",
     "output_type": "stream",
     "text": [
      "CPU times: user 5.59 s, sys: 0 ns, total: 5.59 s\n",
      "Wall time: 5.59 s\n"
     ]
    }
   ],
   "source": [
    "%%time\n",
    "from sklearn.ensemble import GradientBoostingClassifier\n",
    "inicio = time.time()\n",
    "model_gbc = GradientBoostingClassifier().fit(X_treino, y_treino.values.ravel())\n",
    "fim_treino = time.time()\n",
    "y_predito = model_gbc.predict(X_teste)\n",
    "fim_previsao = time.time()"
   ]
  },
  {
   "cell_type": "code",
   "execution_count": 20,
   "metadata": {},
   "outputs": [
    {
     "name": "stdout",
     "output_type": "stream",
     "text": [
      "Acurácia: 97.20%\n",
      "Recall: 97.20%\n",
      "Precisão: 96.13%\n",
      "F1-Score: 96.58%\n",
      "MCC: 49.66%\n",
      "Tempo de treino: 5.58 s\n",
      "Tempo para previsão: 0.02 s\n",
      "Total: 5.58 s\n"
     ]
    },
    {
     "name": "stderr",
     "output_type": "stream",
     "text": [
      "/home/duartejr/anaconda3/envs/indicium/lib/python3.10/site-packages/sklearn/metrics/_classification.py:1344: UndefinedMetricWarning: Precision is ill-defined and being set to 0.0 in labels with no predicted samples. Use `zero_division` parameter to control this behavior.\n",
      "  _warn_prf(average, modifier, msg_start, len(result))\n"
     ]
    }
   ],
   "source": [
    "avaliacao_modelo(y_teste, y_predito, 'Gradient Boosting Classifier')"
   ]
  },
  {
   "attachments": {},
   "cell_type": "markdown",
   "metadata": {},
   "source": [
    "### XGBoost"
   ]
  },
  {
   "attachments": {},
   "cell_type": "markdown",
   "metadata": {},
   "source": [
    "Para o XGBoost é necessário que todas as variáveis sejam to tipo numéricas. Assim, será utilizado o `LabelEncoder` do Scikit-Learn para transformar os valores textuais de `y` para numéricos."
   ]
  },
  {
   "cell_type": "code",
   "execution_count": 21,
   "metadata": {},
   "outputs": [
    {
     "name": "stderr",
     "output_type": "stream",
     "text": [
      "/home/duartejr/anaconda3/envs/indicium/lib/python3.10/site-packages/sklearn/preprocessing/_label.py:99: DataConversionWarning: A column-vector y was passed when a 1d array was expected. Please change the shape of y to (n_samples, ), for example using ravel().\n",
      "  y = column_or_1d(y, warn=True)\n",
      "/home/duartejr/anaconda3/envs/indicium/lib/python3.10/site-packages/sklearn/preprocessing/_label.py:134: DataConversionWarning: A column-vector y was passed when a 1d array was expected. Please change the shape of y to (n_samples, ), for example using ravel().\n",
      "  y = column_or_1d(y, dtype=self.classes_.dtype, warn=True)\n"
     ]
    }
   ],
   "source": [
    "from sklearn.preprocessing import LabelEncoder\n",
    "encoder = LabelEncoder()\n",
    "encoder.fit(y_teste)\n",
    "\n",
    "y_teste2 = encoder.transform(y_teste)\n",
    "y_treino2 = encoder.transform(y_treino)"
   ]
  },
  {
   "cell_type": "code",
   "execution_count": 23,
   "metadata": {},
   "outputs": [
    {
     "name": "stderr",
     "output_type": "stream",
     "text": [
      "/home/duartejr/anaconda3/envs/indicium/lib/python3.10/site-packages/xgboost/compat.py:36: FutureWarning: pandas.Int64Index is deprecated and will be removed from pandas in a future version. Use pandas.Index with the appropriate dtype instead.\n",
      "  from pandas import MultiIndex, Int64Index\n",
      "/home/duartejr/anaconda3/envs/indicium/lib/python3.10/site-packages/xgboost/sklearn.py:1224: UserWarning: The use of label encoder in XGBClassifier is deprecated and will be removed in a future release. To remove this warning, do the following: 1) Pass option use_label_encoder=False when constructing XGBClassifier object; and 2) Encode your labels (y) as integers starting with 0, i.e. 0, 1, 2, ..., [num_class - 1].\n",
      "  warnings.warn(label_encoder_deprecation_msg, UserWarning)\n",
      "/home/duartejr/anaconda3/envs/indicium/lib/python3.10/site-packages/xgboost/data.py:262: FutureWarning: pandas.Int64Index is deprecated and will be removed from pandas in a future version. Use pandas.Index with the appropriate dtype instead.\n",
      "  elif isinstance(data.columns, (pd.Int64Index, pd.RangeIndex)):\n"
     ]
    },
    {
     "name": "stdout",
     "output_type": "stream",
     "text": [
      "[10:35:10] WARNING: /croot/xgboost-split_1675119646044/work/src/learner.cc:1115: Starting in XGBoost 1.3.0, the default evaluation metric used with the objective 'multi:softprob' was changed from 'merror' to 'mlogloss'. Explicitly set eval_metric if you'd like to restore the old behavior.\n",
      "CPU times: user 10.6 s, sys: 8.96 ms, total: 10.6 s\n",
      "Wall time: 1.5 s\n"
     ]
    }
   ],
   "source": [
    "%%time\n",
    "import xgboost as xgb\n",
    "\n",
    "inicio = time.time()\n",
    "model_xgb = xgb.XGBClassifier()\n",
    "model_xgb.fit(X_treino, y_treino2)\n",
    "fim_treino = time.time()\n",
    "y_predito = model_xgb.predict(X_teste)\n",
    "fim_previsao = time.time()"
   ]
  },
  {
   "cell_type": "code",
   "execution_count": 24,
   "metadata": {},
   "outputs": [
    {
     "name": "stdout",
     "output_type": "stream",
     "text": [
      "Acurácia: 97.65%\n",
      "Recall: 97.65%\n",
      "Precisão: 96.91%\n",
      "F1-Score: 97.04%\n",
      "MCC: 58.53%\n",
      "Tempo de treino: 1.32 s\n",
      "Tempo para previsão: 0.01 s\n",
      "Total: 1.32 s\n"
     ]
    },
    {
     "name": "stderr",
     "output_type": "stream",
     "text": [
      "/home/duartejr/anaconda3/envs/indicium/lib/python3.10/site-packages/sklearn/metrics/_classification.py:1344: UndefinedMetricWarning: Precision is ill-defined and being set to 0.0 in labels with no predicted samples. Use `zero_division` parameter to control this behavior.\n",
      "  _warn_prf(average, modifier, msg_start, len(result))\n"
     ]
    }
   ],
   "source": [
    "avaliacao_modelo(y_teste2, y_predito, 'XGBoost Classifier')"
   ]
  },
  {
   "attachments": {},
   "cell_type": "markdown",
   "metadata": {},
   "source": [
    "O comando a seguir exibe a tabela de resumo da avaliação dos modelos."
   ]
  },
  {
   "cell_type": "code",
   "execution_count": 26,
   "metadata": {},
   "outputs": [
    {
     "data": {
      "text/html": [
       "<style type=\"text/css\">\n",
       "#T_bdedc_row0_col0, #T_bdedc_row0_col1, #T_bdedc_row0_col3, #T_bdedc_row0_col4, #T_bdedc_row0_col5, #T_bdedc_row0_col6, #T_bdedc_row0_col7, #T_bdedc_row1_col2 {\n",
       "  background-color: #3b4cc0;\n",
       "  color: #f1f1f1;\n",
       "}\n",
       "#T_bdedc_row0_col2 {\n",
       "  background-color: #4961d2;\n",
       "  color: #f1f1f1;\n",
       "}\n",
       "#T_bdedc_row1_col0, #T_bdedc_row1_col1 {\n",
       "  background-color: #d0473d;\n",
       "  color: #f1f1f1;\n",
       "}\n",
       "#T_bdedc_row1_col3 {\n",
       "  background-color: #f3c7b1;\n",
       "  color: #000000;\n",
       "}\n",
       "#T_bdedc_row1_col4 {\n",
       "  background-color: #f49a7b;\n",
       "  color: #000000;\n",
       "}\n",
       "#T_bdedc_row1_col5 {\n",
       "  background-color: #b7cff9;\n",
       "  color: #000000;\n",
       "}\n",
       "#T_bdedc_row1_col6, #T_bdedc_row2_col5, #T_bdedc_row2_col7, #T_bdedc_row3_col0, #T_bdedc_row3_col1, #T_bdedc_row3_col2, #T_bdedc_row3_col3, #T_bdedc_row3_col4 {\n",
       "  background-color: #b40426;\n",
       "  color: #f1f1f1;\n",
       "}\n",
       "#T_bdedc_row1_col7 {\n",
       "  background-color: #ccd9ed;\n",
       "  color: #000000;\n",
       "}\n",
       "#T_bdedc_row2_col0, #T_bdedc_row2_col1 {\n",
       "  background-color: #f39778;\n",
       "  color: #000000;\n",
       "}\n",
       "#T_bdedc_row2_col2 {\n",
       "  background-color: #a5c3fe;\n",
       "  color: #000000;\n",
       "}\n",
       "#T_bdedc_row2_col3 {\n",
       "  background-color: #f5c2aa;\n",
       "  color: #000000;\n",
       "}\n",
       "#T_bdedc_row2_col4 {\n",
       "  background-color: #edd1c2;\n",
       "  color: #000000;\n",
       "}\n",
       "#T_bdedc_row2_col6 {\n",
       "  background-color: #455cce;\n",
       "  color: #f1f1f1;\n",
       "}\n",
       "#T_bdedc_row3_col5 {\n",
       "  background-color: #86a9fc;\n",
       "  color: #f1f1f1;\n",
       "}\n",
       "#T_bdedc_row3_col6 {\n",
       "  background-color: #445acc;\n",
       "  color: #f1f1f1;\n",
       "}\n",
       "#T_bdedc_row3_col7 {\n",
       "  background-color: #88abfd;\n",
       "  color: #000000;\n",
       "}\n",
       "</style>\n",
       "<table id=\"T_bdedc\">\n",
       "  <thead>\n",
       "    <tr>\n",
       "      <th class=\"blank level0\" >&nbsp;</th>\n",
       "      <th id=\"T_bdedc_level0_col0\" class=\"col_heading level0 col0\" >Acurácia</th>\n",
       "      <th id=\"T_bdedc_level0_col1\" class=\"col_heading level0 col1\" >Recall</th>\n",
       "      <th id=\"T_bdedc_level0_col2\" class=\"col_heading level0 col2\" >Precisão</th>\n",
       "      <th id=\"T_bdedc_level0_col3\" class=\"col_heading level0 col3\" >F1-Score</th>\n",
       "      <th id=\"T_bdedc_level0_col4\" class=\"col_heading level0 col4\" >MCC score</th>\n",
       "      <th id=\"T_bdedc_level0_col5\" class=\"col_heading level0 col5\" >Tempo de treinamento</th>\n",
       "      <th id=\"T_bdedc_level0_col6\" class=\"col_heading level0 col6\" >Tempo de predição</th>\n",
       "      <th id=\"T_bdedc_level0_col7\" class=\"col_heading level0 col7\" >Tempo total</th>\n",
       "    </tr>\n",
       "  </thead>\n",
       "  <tbody>\n",
       "    <tr>\n",
       "      <th id=\"T_bdedc_level0_row0\" class=\"row_heading level0 row0\" >Árvore de Decisão</th>\n",
       "      <td id=\"T_bdedc_row0_col0\" class=\"data row0 col0\" >95.80%</td>\n",
       "      <td id=\"T_bdedc_row0_col1\" class=\"data row0 col1\" >95.80%</td>\n",
       "      <td id=\"T_bdedc_row0_col2\" class=\"data row0 col2\" >95.81%</td>\n",
       "      <td id=\"T_bdedc_row0_col3\" class=\"data row0 col3\" >95.80%</td>\n",
       "      <td id=\"T_bdedc_row0_col4\" class=\"data row0 col4\" >37.80%</td>\n",
       "      <td id=\"T_bdedc_row0_col5\" class=\"data row0 col5\" >0.0</td>\n",
       "      <td id=\"T_bdedc_row0_col6\" class=\"data row0 col6\" >0.0</td>\n",
       "      <td id=\"T_bdedc_row0_col7\" class=\"data row0 col7\" >0.0</td>\n",
       "    </tr>\n",
       "    <tr>\n",
       "      <th id=\"T_bdedc_level0_row1\" class=\"row_heading level0 row1\" >Random Forest</th>\n",
       "      <td id=\"T_bdedc_row1_col0\" class=\"data row1 col0\" >97.50%</td>\n",
       "      <td id=\"T_bdedc_row1_col1\" class=\"data row1 col1\" >97.50%</td>\n",
       "      <td id=\"T_bdedc_row1_col2\" class=\"data row1 col2\" >95.76%</td>\n",
       "      <td id=\"T_bdedc_row1_col3\" class=\"data row1 col3\" >96.56%</td>\n",
       "      <td id=\"T_bdedc_row1_col4\" class=\"data row1 col4\" >53.30%</td>\n",
       "      <td id=\"T_bdedc_row1_col5\" class=\"data row1 col5\" >2.1</td>\n",
       "      <td id=\"T_bdedc_row1_col6\" class=\"data row1 col6\" >0.4</td>\n",
       "      <td id=\"T_bdedc_row1_col7\" class=\"data row1 col7\" >2.5</td>\n",
       "    </tr>\n",
       "    <tr>\n",
       "      <th id=\"T_bdedc_level0_row2\" class=\"row_heading level0 row2\" >Gradient Boosting Classifier</th>\n",
       "      <td id=\"T_bdedc_row2_col0\" class=\"data row2 col0\" >97.20%</td>\n",
       "      <td id=\"T_bdedc_row2_col1\" class=\"data row2 col1\" >97.20%</td>\n",
       "      <td id=\"T_bdedc_row2_col2\" class=\"data row2 col2\" >96.13%</td>\n",
       "      <td id=\"T_bdedc_row2_col3\" class=\"data row2 col3\" >96.58%</td>\n",
       "      <td id=\"T_bdedc_row2_col4\" class=\"data row2 col4\" >49.66%</td>\n",
       "      <td id=\"T_bdedc_row2_col5\" class=\"data row2 col5\" >5.6</td>\n",
       "      <td id=\"T_bdedc_row2_col6\" class=\"data row2 col6\" >0.0</td>\n",
       "      <td id=\"T_bdedc_row2_col7\" class=\"data row2 col7\" >5.6</td>\n",
       "    </tr>\n",
       "    <tr>\n",
       "      <th id=\"T_bdedc_level0_row3\" class=\"row_heading level0 row3\" >XGBoost Classifier</th>\n",
       "      <td id=\"T_bdedc_row3_col0\" class=\"data row3 col0\" >97.65%</td>\n",
       "      <td id=\"T_bdedc_row3_col1\" class=\"data row3 col1\" >97.65%</td>\n",
       "      <td id=\"T_bdedc_row3_col2\" class=\"data row3 col2\" >96.91%</td>\n",
       "      <td id=\"T_bdedc_row3_col3\" class=\"data row3 col3\" >97.04%</td>\n",
       "      <td id=\"T_bdedc_row3_col4\" class=\"data row3 col4\" >58.53%</td>\n",
       "      <td id=\"T_bdedc_row3_col5\" class=\"data row3 col5\" >1.3</td>\n",
       "      <td id=\"T_bdedc_row3_col6\" class=\"data row3 col6\" >0.0</td>\n",
       "      <td id=\"T_bdedc_row3_col7\" class=\"data row3 col7\" >1.3</td>\n",
       "    </tr>\n",
       "  </tbody>\n",
       "</table>\n"
      ],
      "text/plain": [
       "<pandas.io.formats.style.Styler at 0x7f5bc067e140>"
      ]
     },
     "execution_count": 26,
     "metadata": {},
     "output_type": "execute_result"
    }
   ],
   "source": [
    "performaces.fillna(.90,inplace=True)\n",
    "performaces.style.background_gradient(cmap='coolwarm').format({'Acurácia': '{:.2%}',\n",
    "                                                               'Precisão': '{:.2%}',\n",
    "                                                               'Recall': '{:.2%}',\n",
    "                                                               'F1-Score': '{:.2%}',\n",
    "                                                               'MCC score': '{:.2%}',\n",
    "                                                               'Tempo de treinamento':'{:.1f}',\n",
    "                                                               'Tempo de predição':'{:.1f}',\n",
    "                                                               'Tempo total':'{:.1f}',\n",
    "                                                               })"
   ]
  },
  {
   "attachments": {},
   "cell_type": "markdown",
   "metadata": {},
   "source": [
    "## Conclusões"
   ]
  },
  {
   "attachments": {},
   "cell_type": "markdown",
   "metadata": {},
   "source": [
    "Considerando as métricas apresentadas o XGBoost é a melhor solução para o problema apresentado. Na notebook `otimizacao_modelo.ipynb` será realizada a otimização dos parâmetros do XGBoost em busca de melhorar as previsões realizadas pelo mesmo."
   ]
  },
  {
   "cell_type": "code",
   "execution_count": null,
   "metadata": {},
   "outputs": [],
   "source": []
  }
 ],
 "metadata": {
  "kernelspec": {
   "display_name": "indicium",
   "language": "python",
   "name": "python3"
  },
  "language_info": {
   "codemirror_mode": {
    "name": "ipython",
    "version": 3
   },
   "file_extension": ".py",
   "mimetype": "text/x-python",
   "name": "python",
   "nbconvert_exporter": "python",
   "pygments_lexer": "ipython3",
   "version": "3.10.9"
  },
  "orig_nbformat": 4,
  "vscode": {
   "interpreter": {
    "hash": "bce8fb3e4ae3cbbaad3ce4245e0c5848259771d9ac12761672cfc9cf96cf6350"
   }
  }
 },
 "nbformat": 4,
 "nbformat_minor": 2
}
