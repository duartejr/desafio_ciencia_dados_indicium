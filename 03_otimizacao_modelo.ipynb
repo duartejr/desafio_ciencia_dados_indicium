{
 "cells": [
  {
   "attachments": {},
   "cell_type": "markdown",
   "metadata": {},
   "source": [
    "# Otimização do modelo de classificação\n",
    "\n",
    "No arquivo anterior foi selecionado o modelo XGBoost para realizar as classificações das falhas dos equipamentos. Neste documento será feita a otimização dos parâmetros do modelo em busca de obter melhores classificações."
   ]
  },
  {
   "attachments": {},
   "cell_type": "markdown",
   "metadata": {},
   "source": [
    "## Importação das bibliotecas e pacotes necessários."
   ]
  },
  {
   "cell_type": "code",
   "execution_count": 1,
   "metadata": {},
   "outputs": [
    {
     "name": "stderr",
     "output_type": "stream",
     "text": [
      "/home/duartejr/anaconda3/envs/indicium/lib/python3.10/site-packages/xgboost/compat.py:36: FutureWarning: pandas.Int64Index is deprecated and will be removed from pandas in a future version. Use pandas.Index with the appropriate dtype instead.\n",
      "  from pandas import MultiIndex, Int64Index\n"
     ]
    }
   ],
   "source": [
    "import time\n",
    "import numpy as np\n",
    "import pandas as pd\n",
    "import seaborn as sns\n",
    "import matplotlib.pyplot as plt\n",
    "from xgboost import XGBClassifier\n",
    "from sklearn.preprocessing import MinMaxScaler\n",
    "from sklearn.preprocessing import LabelEncoder\n",
    "from sklearn.model_selection import train_test_split\n",
    "from sklearn.metrics import accuracy_score, precision_score, recall_score, f1_score, matthews_corrcoef"
   ]
  },
  {
   "attachments": {},
   "cell_type": "markdown",
   "metadata": {},
   "source": [
    "## Leitura dos dados"
   ]
  },
  {
   "cell_type": "code",
   "execution_count": 2,
   "metadata": {},
   "outputs": [],
   "source": [
    "dados = pd.read_csv('desafio_manutencao_preditiva_treino.csv')"
   ]
  },
  {
   "attachments": {},
   "cell_type": "markdown",
   "metadata": {},
   "source": [
    "## Preparação dos dados\n",
    "\n",
    "Os dados são preparados de acordo com o mostrado no arquivo anterior."
   ]
  },
  {
   "cell_type": "code",
   "execution_count": 3,
   "metadata": {},
   "outputs": [
    {
     "name": "stderr",
     "output_type": "stream",
     "text": [
      "/home/duartejr/anaconda3/envs/indicium/lib/python3.10/site-packages/sklearn/preprocessing/_label.py:99: DataConversionWarning: A column-vector y was passed when a 1d array was expected. Please change the shape of y to (n_samples, ), for example using ravel().\n",
      "  y = column_or_1d(y, warn=True)\n",
      "/home/duartejr/anaconda3/envs/indicium/lib/python3.10/site-packages/sklearn/preprocessing/_label.py:134: DataConversionWarning: A column-vector y was passed when a 1d array was expected. Please change the shape of y to (n_samples, ), for example using ravel().\n",
      "  y = column_or_1d(y, dtype=self.classes_.dtype, warn=True)\n"
     ]
    }
   ],
   "source": [
    "dados.drop(['udi', 'product_id'], axis=1, inplace=True)\n",
    "dados = dados.drop(columns='air_temperature_k')\n",
    "X = dados.drop(columns='failure_type') # Variáveis independentes\n",
    "y = dados[['failure_type']] # Variável dependente\n",
    "X_treino, X_teste, y_treino, y_teste = train_test_split(X, y, test_size=.3, stratify=y, random_state=101)\n",
    "X_treino = pd.get_dummies(X_treino)\n",
    "X_teste = pd.get_dummies(X_teste)\n",
    "encoder = LabelEncoder()\n",
    "encoder.fit(y_teste)\n",
    "y_teste = encoder.transform(y_teste)\n",
    "y_treino = encoder.transform(y_treino)"
   ]
  },
  {
   "attachments": {},
   "cell_type": "markdown",
   "metadata": {},
   "source": [
    "## Registros das performaces do modelo"
   ]
  },
  {
   "cell_type": "code",
   "execution_count": 4,
   "metadata": {},
   "outputs": [],
   "source": [
    "performaces = pd.DataFrame(columns=['Acurácia', 'Recall', 'Precisão', 'F1-Score',\n",
    "                                     'MCC score', 'Tempo de treinamento', \n",
    "                                     'Tempo de predição', 'Tempo total'])\n",
    "\n",
    "def avaliacao_modelo(y_teste, y_predito, modelo):\n",
    "    acuracia = accuracy_score(y_teste, y_predito)\n",
    "    precisao = precision_score(y_teste, y_predito, average='weighted')\n",
    "    recall = recall_score(y_teste, y_predito, average='weighted')\n",
    "    f1s = f1_score(y_teste, y_predito, average='weighted')\n",
    "    MCC = matthews_corrcoef(y_teste, y_predito)\n",
    "\n",
    "    print(\"Acurácia: \"+ \"{:.2%}\".format(acuracia))\n",
    "    print(\"Recall: \"+ \"{:.2%}\".format(recall))\n",
    "    print(\"Precisão: \"+ \"{:.2%}\".format(precisao))\n",
    "    print(\"F1-Score: \"+ \"{:.2%}\".format(f1s))\n",
    "    print(\"MCC: \"+ \"{:.2%}\".format(MCC))\n",
    "    print(\"Tempo de treino: \"+ \"{:.2f}\".format(fim_treino - inicio)+\" s\")\n",
    "    print(\"Tempo para previsão: \"+\"{:.2f}\".format(fim_previsao - fim_treino)+\" s\")\n",
    "    print(\"Total: \"+\"{:.2f}\".format(fim_treino - inicio)+\" s\")\n",
    "    performaces.loc[modelo] = [acuracia, recall, precisao, f1s,\n",
    "                               MCC, fim_treino - inicio, \n",
    "                               fim_previsao - fim_treino,\n",
    "                               fim_previsao - inicio]"
   ]
  },
  {
   "attachments": {},
   "cell_type": "markdown",
   "metadata": {},
   "source": [
    "## Versão original"
   ]
  },
  {
   "cell_type": "code",
   "execution_count": 5,
   "metadata": {},
   "outputs": [
    {
     "name": "stderr",
     "output_type": "stream",
     "text": [
      "/home/duartejr/anaconda3/envs/indicium/lib/python3.10/site-packages/xgboost/sklearn.py:1224: UserWarning: The use of label encoder in XGBClassifier is deprecated and will be removed in a future release. To remove this warning, do the following: 1) Pass option use_label_encoder=False when constructing XGBClassifier object; and 2) Encode your labels (y) as integers starting with 0, i.e. 0, 1, 2, ..., [num_class - 1].\n",
      "  warnings.warn(label_encoder_deprecation_msg, UserWarning)\n",
      "/home/duartejr/anaconda3/envs/indicium/lib/python3.10/site-packages/xgboost/data.py:262: FutureWarning: pandas.Int64Index is deprecated and will be removed from pandas in a future version. Use pandas.Index with the appropriate dtype instead.\n",
      "  elif isinstance(data.columns, (pd.Int64Index, pd.RangeIndex)):\n"
     ]
    },
    {
     "name": "stdout",
     "output_type": "stream",
     "text": [
      "[10:36:15] WARNING: /croot/xgboost-split_1675119646044/work/src/learner.cc:1115: Starting in XGBoost 1.3.0, the default evaluation metric used with the objective 'multi:softprob' was changed from 'merror' to 'mlogloss'. Explicitly set eval_metric if you'd like to restore the old behavior.\n",
      "CPU times: user 19.2 s, sys: 532 ms, total: 19.7 s\n",
      "Wall time: 2.96 s\n"
     ]
    }
   ],
   "source": [
    "%%time\n",
    "inicio = time.time()\n",
    "model_xgb = XGBClassifier()\n",
    "model_xgb.fit(X_treino, y_treino)\n",
    "fim_treino = time.time()\n",
    "y_predito = model_xgb.predict(X_teste)\n",
    "fim_previsao = time.time()"
   ]
  },
  {
   "cell_type": "code",
   "execution_count": 6,
   "metadata": {},
   "outputs": [
    {
     "name": "stdout",
     "output_type": "stream",
     "text": [
      "Acurácia: 97.65%\n",
      "Recall: 97.65%\n",
      "Precisão: 96.91%\n",
      "F1-Score: 97.04%\n",
      "MCC: 58.53%\n",
      "Tempo de treino: 2.93 s\n",
      "Tempo para previsão: 0.03 s\n",
      "Total: 2.93 s\n"
     ]
    },
    {
     "name": "stderr",
     "output_type": "stream",
     "text": [
      "/home/duartejr/anaconda3/envs/indicium/lib/python3.10/site-packages/sklearn/metrics/_classification.py:1344: UndefinedMetricWarning: Precision is ill-defined and being set to 0.0 in labels with no predicted samples. Use `zero_division` parameter to control this behavior.\n",
      "  _warn_prf(average, modifier, msg_start, len(result))\n"
     ]
    }
   ],
   "source": [
    "avaliacao_modelo(y_teste, y_predito, 'XGBoost Classifier')"
   ]
  },
  {
   "attachments": {},
   "cell_type": "markdown",
   "metadata": {},
   "source": [
    "## Seleção de variáveis"
   ]
  },
  {
   "attachments": {},
   "cell_type": "markdown",
   "metadata": {},
   "source": [
    "Na célula a seguir é calculada a importância de cada uma das variáveis para a classificação realizada pelo XGBoost. Vê-se que as principais variáveis são: `torque_nm`, `type_L` e `rotational_speed_rpm`."
   ]
  },
  {
   "cell_type": "code",
   "execution_count": 7,
   "metadata": {},
   "outputs": [
    {
     "data": {
      "image/png": "[encoded data removed]",
      "text/plain": [
       "<Figure size 1000x1000 with 1 Axes>"
      ]
     },
     "metadata": {},
     "output_type": "display_data"
    }
   ],
   "source": [
    "plt.rcParams['figure.figsize']=10,10\n",
    "sns.set_style(\"white\")\n",
    "feat_importances = pd.Series(model_xgb.feature_importances_, index=X_treino.columns)\n",
    "feat_importances = feat_importances.groupby(level=0).mean()\n",
    "feat_importances.nlargest(20).plot(kind='barh').invert_yaxis()\n",
    "sns.despine()\n",
    "plt.show()"
   ]
  },
  {
   "attachments": {},
   "cell_type": "markdown",
   "metadata": {},
   "source": [
    "A seguir é testada uma versão do modelo removendo-se a variável menos importante: `type_M`.\n"
   ]
  },
  {
   "cell_type": "code",
   "execution_count": 8,
   "metadata": {},
   "outputs": [
    {
     "name": "stderr",
     "output_type": "stream",
     "text": [
      "/home/duartejr/anaconda3/envs/indicium/lib/python3.10/site-packages/xgboost/sklearn.py:1224: UserWarning: The use of label encoder in XGBClassifier is deprecated and will be removed in a future release. To remove this warning, do the following: 1) Pass option use_label_encoder=False when constructing XGBClassifier object; and 2) Encode your labels (y) as integers starting with 0, i.e. 0, 1, 2, ..., [num_class - 1].\n",
      "  warnings.warn(label_encoder_deprecation_msg, UserWarning)\n",
      "/home/duartejr/anaconda3/envs/indicium/lib/python3.10/site-packages/xgboost/data.py:262: FutureWarning: pandas.Int64Index is deprecated and will be removed from pandas in a future version. Use pandas.Index with the appropriate dtype instead.\n",
      "  elif isinstance(data.columns, (pd.Int64Index, pd.RangeIndex)):\n"
     ]
    },
    {
     "name": "stdout",
     "output_type": "stream",
     "text": [
      "[10:36:28] WARNING: /croot/xgboost-split_1675119646044/work/src/learner.cc:1115: Starting in XGBoost 1.3.0, the default evaluation metric used with the objective 'multi:softprob' was changed from 'merror' to 'mlogloss'. Explicitly set eval_metric if you'd like to restore the old behavior.\n",
      "CPU times: user 7.86 s, sys: 92.3 ms, total: 7.96 s\n",
      "Wall time: 1.02 s\n"
     ]
    },
    {
     "name": "stderr",
     "output_type": "stream",
     "text": [
      "/home/duartejr/anaconda3/envs/indicium/lib/python3.10/site-packages/xgboost/data.py:262: FutureWarning: pandas.Int64Index is deprecated and will be removed from pandas in a future version. Use pandas.Index with the appropriate dtype instead.\n",
      "  elif isinstance(data.columns, (pd.Int64Index, pd.RangeIndex)):\n"
     ]
    }
   ],
   "source": [
    "%%time\n",
    "inicio = time.time()\n",
    "model_xgb = XGBClassifier()\n",
    "model_xgb.fit(X_treino.drop(columns=['type_M']), y_treino)\n",
    "fim_treino = time.time()\n",
    "y_predito = model_xgb.predict(X_teste.drop(columns=['type_M']))\n",
    "fim_previsao = time.time()"
   ]
  },
  {
   "cell_type": "code",
   "execution_count": 9,
   "metadata": {},
   "outputs": [
    {
     "name": "stdout",
     "output_type": "stream",
     "text": [
      "Acurácia: 97.50%\n",
      "Recall: 97.50%\n",
      "Precisão: 96.22%\n",
      "F1-Score: 96.80%\n",
      "MCC: 55.36%\n",
      "Tempo de treino: 1.01 s\n",
      "Tempo para previsão: 0.01 s\n",
      "Total: 1.01 s\n"
     ]
    },
    {
     "name": "stderr",
     "output_type": "stream",
     "text": [
      "/home/duartejr/anaconda3/envs/indicium/lib/python3.10/site-packages/sklearn/metrics/_classification.py:1344: UndefinedMetricWarning: Precision is ill-defined and being set to 0.0 in labels with no predicted samples. Use `zero_division` parameter to control this behavior.\n",
      "  _warn_prf(average, modifier, msg_start, len(result))\n"
     ]
    }
   ],
   "source": [
    "avaliacao_modelo(y_teste, y_predito, 'XGBoost Classifier -1var')"
   ]
  },
  {
   "attachments": {},
   "cell_type": "markdown",
   "metadata": {},
   "source": [
    "## Otimização de parâmetros"
   ]
  },
  {
   "attachments": {},
   "cell_type": "markdown",
   "metadata": {},
   "source": [
    "Para otimizar os parâmetros do modelo será utilizado o `HalvingGridSearchCV` do Scikit-Learn. Este método realiza uma busca, dentro do espaço amostral de parâmetros informado, buscando o conjunto que maximiza o desempenho do modelo. Ele realiza validação cruzada e, diferentemente de outros métodos que fazem uma busca aleatória dos parâmetros, ele conta com um método de busca que otimizado. Este método de busca varre o espaço amostral pecorrendo o caminho de melhor desempenho do modelo."
   ]
  },
  {
   "attachments": {},
   "cell_type": "markdown",
   "metadata": {},
   "source": [
    "Primeiramente serão testadas modificações no parâmetros: `max_depth` e `max_leaves`."
   ]
  },
  {
   "cell_type": "code",
   "execution_count": 10,
   "metadata": {},
   "outputs": [],
   "source": [
    "from sklearn.experimental import enable_halving_search_cv\n",
    "from sklearn.model_selection import HalvingGridSearchCV"
   ]
  },
  {
   "cell_type": "code",
   "execution_count": 116,
   "metadata": {},
   "outputs": [
    {
     "data": {
      "text/plain": [
       "{'max_depth': 10, 'max_leaves': 15, 'n_estimators': 189}"
      ]
     },
     "execution_count": 116,
     "metadata": {},
     "output_type": "execute_result"
    }
   ],
   "source": [
    "model_xgb = XGBClassifier()\n",
    "param_grid = {\"max_depth\": [1, 2, 3, 4, 5, 10, None],\n",
    "              \"max_leaves\": [1, 5, 10, 15, 20]}           \n",
    "\n",
    "search = HalvingGridSearchCV(model_xgb, param_grid, resource='n_estimators',\n",
    "                             max_resources=200, random_state=101,\n",
    "                             scoring='f1_weighted').fit(X_treino, y_treino)\n",
    "search.best_params_"
   ]
  },
  {
   "attachments": {},
   "cell_type": "markdown",
   "metadata": {},
   "source": [
    "A seguir é executado o retreino do modelo com a resposta da otimização anterior."
   ]
  },
  {
   "cell_type": "code",
   "execution_count": 127,
   "metadata": {},
   "outputs": [
    {
     "name": "stdout",
     "output_type": "stream",
     "text": [
      "Acurácia: 97.45%\n",
      "Recall: 97.45%\n",
      "Precisão: 96.17%\n",
      "F1-Score: 96.76%\n",
      "MCC: 54.35%\n",
      "Tempo de treino: 0.88 s\n",
      "Tempo para previsão: 0.01 s\n",
      "Total: 0.88 s\n",
      "CPU times: total: 5.98 s\n",
      "Wall time: 899 ms\n"
     ]
    },
    {
     "name": "stderr",
     "output_type": "stream",
     "text": [
      "c:\\Users\\duart\\AppData\\Local\\Programs\\Python\\Python311\\Lib\\site-packages\\sklearn\\metrics\\_classification.py:1344: UndefinedMetricWarning: Precision is ill-defined and being set to 0.0 in labels with no predicted samples. Use `zero_division` parameter to control this behavior.\n",
      "  _warn_prf(average, modifier, msg_start, len(result))\n"
     ]
    }
   ],
   "source": [
    "%%time\n",
    "inicio = time.time()\n",
    "model_xgb = XGBClassifier(max_depth=10, max_leaves=15, n_estimators=189)\n",
    "\n",
    "model_xgb.fit(X_treino, y_treino)\n",
    "fim_treino = time.time()\n",
    "y_predito = model_xgb.predict(X_teste)\n",
    "fim_previsao = time.time()\n",
    "avaliacao_modelo(y_teste, y_predito, 'XGBoost Classifier Healving 01')"
   ]
  },
  {
   "attachments": {},
   "cell_type": "markdown",
   "metadata": {},
   "source": [
    "Em sequência serão testadas modificações nos parâmetros: `gamma`, `reg_alpha` e `reg_lamda`."
   ]
  },
  {
   "cell_type": "code",
   "execution_count": null,
   "metadata": {},
   "outputs": [],
   "source": [
    "model_xgb = XGBClassifier()\n",
    "param_grid = {\"gamma\": np.arange(0, 1.1, 0.1),\n",
    "              \"reg_alpha\": np.arange(-1, 1.1, 0.1),\n",
    "              'reg_lambda': np.arange(-1, 1.1, 0.1)}           \n",
    "search = HalvingGridSearchCV(model_xgb, param_grid, resource='n_estimators',\n",
    "                             max_resources=200, random_state=101,\n",
    "                             scoring='f1_weighted').fit(X_treino, y_treino)\n",
    "search.best_params_"
   ]
  },
  {
   "cell_type": "code",
   "execution_count": 120,
   "metadata": {},
   "outputs": [
    {
     "data": {
      "text/plain": [
       "{'gamma': 0.4,\n",
       " 'reg_alpha': 0.09999999999999964,\n",
       " 'reg_lambda': 0.49999999999999956,\n",
       " 'n_estimators': 81}"
      ]
     },
     "execution_count": 120,
     "metadata": {},
     "output_type": "execute_result"
    }
   ],
   "source": [
    "search.best_params_"
   ]
  },
  {
   "attachments": {},
   "cell_type": "markdown",
   "metadata": {},
   "source": [
    "Executa-se o retreino do modelo com a resposta da etapa anterior."
   ]
  },
  {
   "cell_type": "code",
   "execution_count": 128,
   "metadata": {},
   "outputs": [
    {
     "name": "stdout",
     "output_type": "stream",
     "text": [
      "Acurácia: 97.30%\n",
      "Recall: 97.30%\n",
      "Precisão: 95.99%\n",
      "F1-Score: 96.59%\n",
      "MCC: 51.08%\n",
      "Tempo de treino: 0.47 s\n",
      "Tempo para previsão: 0.00 s\n",
      "Total: 0.47 s\n",
      "CPU times: total: 2.88 s\n",
      "Wall time: 485 ms\n"
     ]
    },
    {
     "name": "stderr",
     "output_type": "stream",
     "text": [
      "c:\\Users\\duart\\AppData\\Local\\Programs\\Python\\Python311\\Lib\\site-packages\\sklearn\\metrics\\_classification.py:1344: UndefinedMetricWarning: Precision is ill-defined and being set to 0.0 in labels with no predicted samples. Use `zero_division` parameter to control this behavior.\n",
      "  _warn_prf(average, modifier, msg_start, len(result))\n"
     ]
    }
   ],
   "source": [
    "%%time\n",
    "inicio = time.time()\n",
    "model_xgb = XGBClassifier(gamma=0.4, reg_alpha=0.099, reg_lambda=0.499, n_estimators=81)\n",
    "\n",
    "model_xgb.fit(X_treino, y_treino)\n",
    "fim_treino = time.time()\n",
    "y_predito = model_xgb.predict(X_teste)\n",
    "fim_previsao = time.time()\n",
    "avaliacao_modelo(y_teste, y_predito, 'XGBoost Classifier Healving 02')"
   ]
  },
  {
   "attachments": {},
   "cell_type": "markdown",
   "metadata": {},
   "source": [
    "Finalmente têm o resultado de todas as tentativas de otimização do modelo."
   ]
  },
  {
   "cell_type": "code",
   "execution_count": 129,
   "metadata": {},
   "outputs": [
    {
     "data": {
      "text/html": [
       "<style type=\"text/css\">\n",
       "#T_af358_row0_col0, #T_af358_row0_col1, #T_af358_row0_col2, #T_af358_row0_col3, #T_af358_row0_col4, #T_af358_row1_col6, #T_af358_row2_col5, #T_af358_row2_col6, #T_af358_row2_col7 {\n",
       "  background-color: #b40426;\n",
       "  color: #f1f1f1;\n",
       "}\n",
       "#T_af358_row0_col5, #T_af358_row0_col7 {\n",
       "  background-color: #7597f6;\n",
       "  color: #f1f1f1;\n",
       "}\n",
       "#T_af358_row0_col6 {\n",
       "  background-color: #8db0fe;\n",
       "  color: #000000;\n",
       "}\n",
       "#T_af358_row1_col0, #T_af358_row1_col1, #T_af358_row1_col4 {\n",
       "  background-color: #edd1c2;\n",
       "  color: #000000;\n",
       "}\n",
       "#T_af358_row1_col2 {\n",
       "  background-color: #8caffe;\n",
       "  color: #000000;\n",
       "}\n",
       "#T_af358_row1_col3 {\n",
       "  background-color: #d3dbe7;\n",
       "  color: #000000;\n",
       "}\n",
       "#T_af358_row1_col5 {\n",
       "  background-color: #4f69d9;\n",
       "  color: #f1f1f1;\n",
       "}\n",
       "#T_af358_row1_col7 {\n",
       "  background-color: #536edd;\n",
       "  color: #f1f1f1;\n",
       "}\n",
       "#T_af358_row2_col0, #T_af358_row2_col1 {\n",
       "  background-color: #c9d7f0;\n",
       "  color: #000000;\n",
       "}\n",
       "#T_af358_row2_col2 {\n",
       "  background-color: #779af7;\n",
       "  color: #f1f1f1;\n",
       "}\n",
       "#T_af358_row2_col3 {\n",
       "  background-color: #b7cff9;\n",
       "  color: #000000;\n",
       "}\n",
       "#T_af358_row2_col4 {\n",
       "  background-color: #ccd9ed;\n",
       "  color: #000000;\n",
       "}\n",
       "#T_af358_row3_col0, #T_af358_row3_col1, #T_af358_row3_col2, #T_af358_row3_col3, #T_af358_row3_col4, #T_af358_row3_col5, #T_af358_row3_col6, #T_af358_row3_col7 {\n",
       "  background-color: #3b4cc0;\n",
       "  color: #f1f1f1;\n",
       "}\n",
       "</style>\n",
       "<table id=\"T_af358\">\n",
       "  <thead>\n",
       "    <tr>\n",
       "      <th class=\"blank level0\" >&nbsp;</th>\n",
       "      <th id=\"T_af358_level0_col0\" class=\"col_heading level0 col0\" >Acurácia</th>\n",
       "      <th id=\"T_af358_level0_col1\" class=\"col_heading level0 col1\" >Recall</th>\n",
       "      <th id=\"T_af358_level0_col2\" class=\"col_heading level0 col2\" >Precisão</th>\n",
       "      <th id=\"T_af358_level0_col3\" class=\"col_heading level0 col3\" >F1-Score</th>\n",
       "      <th id=\"T_af358_level0_col4\" class=\"col_heading level0 col4\" >MCC score</th>\n",
       "      <th id=\"T_af358_level0_col5\" class=\"col_heading level0 col5\" >Tempo de treinamento</th>\n",
       "      <th id=\"T_af358_level0_col6\" class=\"col_heading level0 col6\" >Tempo de predição</th>\n",
       "      <th id=\"T_af358_level0_col7\" class=\"col_heading level0 col7\" >Tempo total</th>\n",
       "    </tr>\n",
       "  </thead>\n",
       "  <tbody>\n",
       "    <tr>\n",
       "      <th id=\"T_af358_level0_row0\" class=\"row_heading level0 row0\" >XGBoost Classifier</th>\n",
       "      <td id=\"T_af358_row0_col0\" class=\"data row0 col0\" >97.65%</td>\n",
       "      <td id=\"T_af358_row0_col1\" class=\"data row0 col1\" >97.65%</td>\n",
       "      <td id=\"T_af358_row0_col2\" class=\"data row0 col2\" >96.91%</td>\n",
       "      <td id=\"T_af358_row0_col3\" class=\"data row0 col3\" >97.04%</td>\n",
       "      <td id=\"T_af358_row0_col4\" class=\"data row0 col4\" >58.53%</td>\n",
       "      <td id=\"T_af358_row0_col5\" class=\"data row0 col5\" >0.5</td>\n",
       "      <td id=\"T_af358_row0_col6\" class=\"data row0 col6\" >0.0</td>\n",
       "      <td id=\"T_af358_row0_col7\" class=\"data row0 col7\" >0.6</td>\n",
       "    </tr>\n",
       "    <tr>\n",
       "      <th id=\"T_af358_level0_row1\" class=\"row_heading level0 row1\" >XGBoost Classifier -1var</th>\n",
       "      <td id=\"T_af358_row1_col0\" class=\"data row1 col0\" >97.50%</td>\n",
       "      <td id=\"T_af358_row1_col1\" class=\"data row1 col1\" >97.50%</td>\n",
       "      <td id=\"T_af358_row1_col2\" class=\"data row1 col2\" >96.22%</td>\n",
       "      <td id=\"T_af358_row1_col3\" class=\"data row1 col3\" >96.80%</td>\n",
       "      <td id=\"T_af358_row1_col4\" class=\"data row1 col4\" >55.36%</td>\n",
       "      <td id=\"T_af358_row1_col5\" class=\"data row1 col5\" >0.5</td>\n",
       "      <td id=\"T_af358_row1_col6\" class=\"data row1 col6\" >0.0</td>\n",
       "      <td id=\"T_af358_row1_col7\" class=\"data row1 col7\" >0.5</td>\n",
       "    </tr>\n",
       "    <tr>\n",
       "      <th id=\"T_af358_level0_row2\" class=\"row_heading level0 row2\" >XGBoost Classifier Healving 01</th>\n",
       "      <td id=\"T_af358_row2_col0\" class=\"data row2 col0\" >97.45%</td>\n",
       "      <td id=\"T_af358_row2_col1\" class=\"data row2 col1\" >97.45%</td>\n",
       "      <td id=\"T_af358_row2_col2\" class=\"data row2 col2\" >96.17%</td>\n",
       "      <td id=\"T_af358_row2_col3\" class=\"data row2 col3\" >96.76%</td>\n",
       "      <td id=\"T_af358_row2_col4\" class=\"data row2 col4\" >54.35%</td>\n",
       "      <td id=\"T_af358_row2_col5\" class=\"data row2 col5\" >0.9</td>\n",
       "      <td id=\"T_af358_row2_col6\" class=\"data row2 col6\" >0.0</td>\n",
       "      <td id=\"T_af358_row2_col7\" class=\"data row2 col7\" >0.9</td>\n",
       "    </tr>\n",
       "    <tr>\n",
       "      <th id=\"T_af358_level0_row3\" class=\"row_heading level0 row3\" >XGBoost Classifier Healving 02</th>\n",
       "      <td id=\"T_af358_row3_col0\" class=\"data row3 col0\" >97.30%</td>\n",
       "      <td id=\"T_af358_row3_col1\" class=\"data row3 col1\" >97.30%</td>\n",
       "      <td id=\"T_af358_row3_col2\" class=\"data row3 col2\" >95.99%</td>\n",
       "      <td id=\"T_af358_row3_col3\" class=\"data row3 col3\" >96.59%</td>\n",
       "      <td id=\"T_af358_row3_col4\" class=\"data row3 col4\" >51.08%</td>\n",
       "      <td id=\"T_af358_row3_col5\" class=\"data row3 col5\" >0.5</td>\n",
       "      <td id=\"T_af358_row3_col6\" class=\"data row3 col6\" >0.0</td>\n",
       "      <td id=\"T_af358_row3_col7\" class=\"data row3 col7\" >0.5</td>\n",
       "    </tr>\n",
       "  </tbody>\n",
       "</table>\n"
      ],
      "text/plain": [
       "<pandas.io.formats.style.Styler at 0x2aac7437790>"
      ]
     },
     "execution_count": 129,
     "metadata": {},
     "output_type": "execute_result"
    }
   ],
   "source": [
    "performaces.fillna(.90,inplace=True)\n",
    "performaces.style.background_gradient(cmap='coolwarm').format({'Acurácia': '{:.2%}',\n",
    "                                                               'Precisão': '{:.2%}',\n",
    "                                                               'Recall': '{:.2%}',\n",
    "                                                               'F1-Score': '{:.2%}',\n",
    "                                                               'MCC score': '{:.2%}',\n",
    "                                                               'Tempo de treinamento':'{:.1f}',\n",
    "                                                               'Tempo de predição':'{:.1f}',\n",
    "                                                               'Tempo total':'{:.1f}',\n",
    "                                                               })"
   ]
  },
  {
   "attachments": {},
   "cell_type": "markdown",
   "metadata": {},
   "source": [
    "## Conclusões "
   ]
  },
  {
   "attachments": {},
   "cell_type": "markdown",
   "metadata": {},
   "source": [
    "Os resultados mostram que a melhor configuração para o modelo é a padrão. Ainda poderiam ser testadas outras configurações e métodos de otimização mas devido a limitações de tempo e poder computacionais não puderão ser testadas neste trabalho. Portanto a próxima etapa seguirá com a implementação do modelo selecionado."
   ]
  },
  {
   "cell_type": "markdown",
   "metadata": {},
   "source": []
  }
 ],
 "metadata": {
  "kernelspec": {
   "display_name": "indicium",
   "language": "python",
   "name": "python3"
  },
  "language_info": {
   "codemirror_mode": {
    "name": "ipython",
    "version": 3
   },
   "file_extension": ".py",
   "mimetype": "text/x-python",
   "name": "python",
   "nbconvert_exporter": "python",
   "pygments_lexer": "ipython3",
   "version": "3.10.9"
  },
  "orig_nbformat": 4,
  "vscode": {
   "interpreter": {
    "hash": "bce8fb3e4ae3cbbaad3ce4245e0c5848259771d9ac12761672cfc9cf96cf6350"
   }
  }
 },
 "nbformat": 4,
 "nbformat_minor": 2
}
